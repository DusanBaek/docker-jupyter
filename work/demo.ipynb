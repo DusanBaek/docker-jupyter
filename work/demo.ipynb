{
 "cells": [
  {
   "cell_type": "markdown",
   "id": "deluxe-slope",
   "metadata": {},
   "source": [
    "# Working directory\n",
    "\n",
    "The notebooks that you save here persist in the host filesystem."
   ]
  },
  {
   "cell_type": "code",
   "execution_count": 5,
   "id": "detailed-alfred",
   "metadata": {},
   "outputs": [
    {
     "name": "stdout",
     "output_type": "stream",
     "text": [
      "/home/jovyan/work\n"
     ]
    }
   ],
   "source": [
    "import os\n",
    "print(os.getcwd())"
   ]
  },
  {
   "cell_type": "code",
   "execution_count": null,
   "id": "competent-background",
   "metadata": {},
   "outputs": [],
   "source": []
  }
 ],
 "metadata": {
  "kernelspec": {
   "display_name": "Python 3",
   "language": "python",
   "name": "python3"
  },
  "language_info": {
   "codemirror_mode": {
    "name": "ipython",
    "version": 3
   },
   "file_extension": ".py",
   "mimetype": "text/x-python",
   "name": "python",
   "nbconvert_exporter": "python",
   "pygments_lexer": "ipython3",
   "version": "3.8.6"
  }
 },
 "nbformat": 4,
 "nbformat_minor": 5
}
